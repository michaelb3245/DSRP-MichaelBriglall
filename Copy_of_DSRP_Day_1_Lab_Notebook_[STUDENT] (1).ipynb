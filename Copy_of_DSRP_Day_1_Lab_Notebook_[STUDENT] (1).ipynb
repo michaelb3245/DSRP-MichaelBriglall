{
  "nbformat": 4,
  "nbformat_minor": 0,
  "metadata": {
    "colab": {
      "provenance": []
    },
    "kernelspec": {
      "name": "python3",
      "display_name": "Python 3"
    },
    "language_info": {
      "name": "python"
    }
  },
  "cells": [
    {
      "cell_type": "markdown",
      "source": [
        "---\n",
        "# **Lab 1: Python Basics**\n",
        "---\n",
        "\n",
        "\n",
        "### **Description**\n",
        "This lab is designed to provide hands-on practice with Python basics to solidify the foundation upon which we will build our machine learning and data science skills in the coming weeks.\n",
        "\n",
        "\n",
        "<br>\n",
        "\n",
        "### **Lab Structure**\n",
        "**Part 1**: [Print Statements](#p1)\n",
        "\n",
        "**Part 2**: [Variables and Data Types](#p2)\n",
        "\n",
        "**Part 3**: [Arithmetic Operators](#p3)\n",
        "\n",
        "**Part 4**: [Extra Practice](#p4) [optional]\n",
        "\n",
        "\n",
        "\n",
        "<br>\n",
        "\n",
        "### **Learning Objectives**\n",
        " By the end of this lab, we will:\n",
        "* Recognize how information is outputted to the screen.\n",
        "* Recognize that variables are a way to store data.\n",
        "* Recognize the main data types and how to modify them with basic arithmetic operators.\n",
        "\n",
        "\n",
        "<br>\n",
        "\n",
        "\n",
        "### **Resources**\n",
        "* [Python basics Cheat Sheet](https://docs.google.com/document/d/1P3mae56ecUhbi3zq5eCT9T7HamCGEcd3lqqdZvUZAvU/edit?usp=sharing)"
      ],
      "metadata": {
        "id": "rh5I8K12qeQr"
      }
    },
    {
      "cell_type": "markdown",
      "source": [
        "<a name=\"p1\"></a>\n",
        "\n",
        "---\n",
        "## **Part #1: Print Functions**\n",
        "---"
      ],
      "metadata": {
        "id": "Nncig8FoErJz"
      }
    },
    {
      "cell_type": "markdown",
      "source": [
        "### **Problem #1.1**\n",
        "\n",
        "Create a code cell and type: `print(\"Hello!\")`."
      ],
      "metadata": {
        "id": "sicHQHskOR5k"
      }
    },
    {
      "cell_type": "code",
      "source": [
        "print(\"Hello!\")"
      ],
      "metadata": {
        "colab": {
          "base_uri": "https://localhost:8080/"
        },
        "id": "ZsjnU0TVFB2H",
        "outputId": "7733de50-77fa-407a-c78f-8315fc959afc"
      },
      "execution_count": 1,
      "outputs": [
        {
          "output_type": "stream",
          "name": "stdout",
          "text": [
            "Hello!\n"
          ]
        }
      ]
    },
    {
      "cell_type": "markdown",
      "source": [
        "---\n",
        "### **Problem #1.2**\n",
        "\n",
        "\n",
        "Create a code cell and type: `print(\"Today I learned about the basics of Python programming!\")`."
      ],
      "metadata": {
        "id": "gBznbwzhGVPa"
      }
    },
    {
      "cell_type": "code",
      "source": [
        "print(\"Today I learned about the basics of Python programming!\")"
      ],
      "metadata": {
        "colab": {
          "base_uri": "https://localhost:8080/"
        },
        "id": "PpkwMqKhFG_o",
        "outputId": "9f9cd6fd-2615-478c-e95a-e899b7a91ba7"
      },
      "execution_count": 2,
      "outputs": [
        {
          "output_type": "stream",
          "name": "stdout",
          "text": [
            "Today I learned about the basics of Python programming!\n"
          ]
        }
      ]
    },
    {
      "cell_type": "markdown",
      "source": [
        "---\n",
        "\n",
        "### **Now your turn! Try Problems #1.3-1.5 on your own.**\n",
        "\n",
        "---"
      ],
      "metadata": {
        "id": "BaXdKVoFi5Qd"
      }
    },
    {
      "cell_type": "markdown",
      "source": [
        "\n",
        "### **Problem #1.3**\n",
        "\n",
        "\n",
        "Print your favorite color."
      ],
      "metadata": {
        "id": "1FxKXJTnEuW5"
      }
    },
    {
      "cell_type": "code",
      "source": [
        "print(\"Blue\")"
      ],
      "metadata": {
        "id": "ev94xJlcpXo3",
        "colab": {
          "base_uri": "https://localhost:8080/"
        },
        "outputId": "1164f4d6-0ac7-4c90-e449-2ba9f0459c44"
      },
      "execution_count": 3,
      "outputs": [
        {
          "output_type": "stream",
          "name": "stdout",
          "text": [
            "Blue\n"
          ]
        }
      ]
    },
    {
      "cell_type": "markdown",
      "source": [
        "---\n",
        "### **Problem #1.4**\n",
        "\n",
        "\n",
        "Print a sentence that describes what state or country you are from.\n"
      ],
      "metadata": {
        "id": "rGlILc5uFHhr"
      }
    },
    {
      "cell_type": "code",
      "source": [
        "print(\"I am from The United States of America, specifically New York.\")"
      ],
      "metadata": {
        "id": "ksGcBOdPFNwh",
        "colab": {
          "base_uri": "https://localhost:8080/"
        },
        "outputId": "10128045-123d-4a3a-e1bb-17360026f21c"
      },
      "execution_count": 4,
      "outputs": [
        {
          "output_type": "stream",
          "name": "stdout",
          "text": [
            "I am from The United States of America, specifically New York.\n"
          ]
        }
      ]
    },
    {
      "cell_type": "markdown",
      "source": [
        "---\n",
        "### **Problem #1.5**\n",
        "\n",
        "Print the food you had for breakfast today."
      ],
      "metadata": {
        "id": "uxrrgBQlFSSS"
      }
    },
    {
      "cell_type": "code",
      "source": [
        "print(\"I had a bagel with cream cheese\")"
      ],
      "metadata": {
        "id": "-S0HsjPlFZgv",
        "colab": {
          "base_uri": "https://localhost:8080/"
        },
        "outputId": "5dc44da6-2490-4324-dd65-ccaac0ab1897"
      },
      "execution_count": 5,
      "outputs": [
        {
          "output_type": "stream",
          "name": "stdout",
          "text": [
            "I had a bagel with cream cheese\n"
          ]
        }
      ]
    },
    {
      "cell_type": "markdown",
      "source": [
        "---\n",
        "### **Problem #1.6**\n",
        "\n",
        "The ability to choose between single quotes and double quotes is useful when trying to print either of these characters. We can use one to print the other.\n"
      ],
      "metadata": {
        "id": "y1zOK6Ii3es6"
      }
    },
    {
      "cell_type": "code",
      "source": [
        "print(\"My cat's name is Charlie.\")\n",
        "\n",
        "print('Charlie said \"meow\".')"
      ],
      "metadata": {
        "colab": {
          "base_uri": "https://localhost:8080/"
        },
        "id": "XtE6o0K13es7",
        "outputId": "95e2c678-8afe-45fc-cfb3-985c4506ec31"
      },
      "execution_count": 6,
      "outputs": [
        {
          "output_type": "stream",
          "name": "stdout",
          "text": [
            "My cat's name is Charlie.\n",
            "Charlie said \"meow\".\n"
          ]
        }
      ]
    },
    {
      "cell_type": "markdown",
      "source": [
        "---\n",
        "###Back To Lab Slides\n",
        "---\n"
      ],
      "metadata": {
        "id": "6c7e-a7BFd7x"
      }
    },
    {
      "cell_type": "markdown",
      "source": [
        "\n",
        "### **Problem #1.6**\n",
        "\n",
        "\n",
        "Create a code cell and print your favorite number."
      ],
      "metadata": {
        "id": "nCe6tA7tHLIc"
      }
    },
    {
      "cell_type": "code",
      "source": [
        "print(\"2\")"
      ],
      "metadata": {
        "colab": {
          "base_uri": "https://localhost:8080/"
        },
        "id": "pPuvznLRGQNg",
        "outputId": "98df0a65-c9c9-404a-a8bd-5a3a44ed4a57"
      },
      "execution_count": 7,
      "outputs": [
        {
          "output_type": "stream",
          "name": "stdout",
          "text": [
            "2\n"
          ]
        }
      ]
    },
    {
      "cell_type": "markdown",
      "source": [
        "---\n",
        "### **Problem #1.7**\n",
        "\n",
        "\n",
        "Create a code cell and print the sum of 33 and -11."
      ],
      "metadata": {
        "id": "U4eyO4sCHVlb"
      }
    },
    {
      "cell_type": "code",
      "source": [
        "print(33 + -11)"
      ],
      "metadata": {
        "colab": {
          "base_uri": "https://localhost:8080/"
        },
        "id": "-kZbEFW1GUS9",
        "outputId": "41336312-427b-46d4-f8f3-6f43ab32084c"
      },
      "execution_count": 15,
      "outputs": [
        {
          "output_type": "stream",
          "name": "stdout",
          "text": [
            "22\n"
          ]
        }
      ]
    },
    {
      "cell_type": "markdown",
      "source": [
        "---\n",
        "\n",
        "### **Now your turn! Try Problems #1.8-1.11 on your own.**\n",
        "\n",
        "---"
      ],
      "metadata": {
        "id": "pZ07b0dxjr-k"
      }
    },
    {
      "cell_type": "markdown",
      "source": [
        "\n",
        "### **Problem #1.8**\n",
        "\n",
        "\n",
        "Print the number of months in a year."
      ],
      "metadata": {
        "id": "73KBI9U4IAnW"
      }
    },
    {
      "cell_type": "code",
      "source": [
        "print(\"There are 12 months in a year\")"
      ],
      "metadata": {
        "id": "zmA7sZEmUJtt",
        "colab": {
          "base_uri": "https://localhost:8080/"
        },
        "outputId": "01a67e31-54fe-4b18-d4bc-d3d86cb51ab9"
      },
      "execution_count": 10,
      "outputs": [
        {
          "output_type": "stream",
          "name": "stdout",
          "text": [
            "There are 12 months in a year\n"
          ]
        }
      ]
    },
    {
      "cell_type": "markdown",
      "source": [
        "---\n",
        "### **Problem #1.9**\n",
        "\n",
        "\n",
        "Print the current year."
      ],
      "metadata": {
        "id": "1L9UH0tVIQS3"
      }
    },
    {
      "cell_type": "code",
      "source": [
        "print('The year is 2025')"
      ],
      "metadata": {
        "id": "6UcV-z_aULfy",
        "colab": {
          "base_uri": "https://localhost:8080/"
        },
        "outputId": "3234773e-c9c4-4a5d-821e-4ae754265165"
      },
      "execution_count": 11,
      "outputs": [
        {
          "output_type": "stream",
          "name": "stdout",
          "text": [
            "The year is 2025\n"
          ]
        }
      ]
    },
    {
      "cell_type": "markdown",
      "source": [
        "---\n",
        "### **Problem #1.10**\n",
        "\n",
        "\n",
        "Print today's date in the following format: MDDYYYY."
      ],
      "metadata": {
        "id": "kEWPBjjYIWBY"
      }
    },
    {
      "cell_type": "code",
      "source": [
        "print('7/07/2025')"
      ],
      "metadata": {
        "id": "zVu0tbWyUNXK",
        "colab": {
          "base_uri": "https://localhost:8080/"
        },
        "outputId": "11755fd7-edcd-43b1-f767-2a5fb12e5219"
      },
      "execution_count": 12,
      "outputs": [
        {
          "output_type": "stream",
          "name": "stdout",
          "text": [
            "7/07/2025\n"
          ]
        }
      ]
    },
    {
      "cell_type": "markdown",
      "source": [
        "---\n",
        "### **Problem #1.11**\n",
        "\n",
        "\n",
        "Print the sum of your age plus the age of your best friend."
      ],
      "metadata": {
        "id": "w5_afO4Qed4Q"
      }
    },
    {
      "cell_type": "code",
      "source": [
        "print(16 + 17)"
      ],
      "metadata": {
        "colab": {
          "base_uri": "https://localhost:8080/"
        },
        "id": "Sa-vME7YH5rq",
        "outputId": "3c3e5e70-6a1e-447b-f810-299d8a68a807"
      },
      "execution_count": 16,
      "outputs": [
        {
          "output_type": "stream",
          "name": "stdout",
          "text": [
            "33\n"
          ]
        }
      ]
    },
    {
      "cell_type": "markdown",
      "source": [
        "---\n",
        "###Back To Lab Slides\n",
        "---\n"
      ],
      "metadata": {
        "id": "IHoWW-vDIj4k"
      }
    },
    {
      "cell_type": "markdown",
      "source": [
        "<a name=\"p2\"></a>\n",
        "\n",
        "---\n",
        "## **Part #2: Variables & Data Types**\n",
        "---"
      ],
      "metadata": {
        "id": "8ZlKbmO6kmGl"
      }
    },
    {
      "cell_type": "markdown",
      "source": [
        "### **Problem #2.1**\n",
        "\n",
        "\n",
        "Create a variable called `my_name` and assign it to your first name. Print this variable."
      ],
      "metadata": {
        "id": "6tp4GH_pFiXc"
      }
    },
    {
      "cell_type": "code",
      "source": [
        "my_Name = \"Michael\"\n",
        "print(my_Name)"
      ],
      "metadata": {
        "id": "mRRdH1SnF2ck",
        "colab": {
          "base_uri": "https://localhost:8080/"
        },
        "outputId": "54e98e98-d815-43b5-aee6-6f885c996be2"
      },
      "execution_count": 23,
      "outputs": [
        {
          "output_type": "stream",
          "name": "stdout",
          "text": [
            "Michael\n"
          ]
        }
      ]
    },
    {
      "cell_type": "markdown",
      "source": [
        "---\n",
        "### **Problem #2.2**\n",
        "\n",
        "Create and name a variable with your favorite number as an integer. Print that variable."
      ],
      "metadata": {
        "id": "GeA492pRF9Et"
      }
    },
    {
      "cell_type": "code",
      "source": [
        "two = \"2\"\n",
        "print(two)"
      ],
      "metadata": {
        "id": "2UIxtgq1GEfP",
        "colab": {
          "base_uri": "https://localhost:8080/"
        },
        "outputId": "63f1aecb-b60d-40e3-9212-73427a2784c2"
      },
      "execution_count": 26,
      "outputs": [
        {
          "output_type": "stream",
          "name": "stdout",
          "text": [
            "2\n"
          ]
        }
      ]
    },
    {
      "cell_type": "markdown",
      "source": [
        "---\n",
        "### **Problem #2.3**\n",
        "\n",
        "Create and name a variable with your favorite number as a float. Print that variable."
      ],
      "metadata": {
        "id": "PFzpApaisZj3"
      }
    },
    {
      "cell_type": "code",
      "source": [
        "favorite_Numberfloat = \"2.0\"\n",
        "print(favorite_Numberfloat)"
      ],
      "metadata": {
        "id": "TJ1lbMmBseNz",
        "colab": {
          "base_uri": "https://localhost:8080/"
        },
        "outputId": "106fa73c-98a6-4426-ce92-79eb19b9551c"
      },
      "execution_count": 25,
      "outputs": [
        {
          "output_type": "stream",
          "name": "stdout",
          "text": [
            "2.0\n"
          ]
        }
      ]
    },
    {
      "cell_type": "markdown",
      "source": [
        "---\n",
        "\n",
        "### **Now your turn! Try Problems #2.4-2.6 on your own.**\n",
        "\n",
        "---\n"
      ],
      "metadata": {
        "id": "jK_9G-b4Thcu"
      }
    },
    {
      "cell_type": "markdown",
      "source": [
        "\n",
        "### **Problem #2.4**\n",
        "\n",
        "\n",
        "\n",
        "Look through the given declarations. Which ones are incorrect?\n",
        "\n",
        "```\n",
        "Var1 = 7\n",
        "VAR5 = 8\n",
        "2var = 92\n",
        "first_last_name = \"james gooding\"\n",
        "Hello! = 0.283\n",
        "variable24 = \"my favorite food is\"\n",
        "str = \"string\"\n",
        "```\n",
        "\n"
      ],
      "metadata": {
        "id": "idKFoy5PGMXj"
      }
    },
    {
      "cell_type": "markdown",
      "source": [],
      "metadata": {
        "id": "MyU6GFhATHMO"
      }
    },
    {
      "cell_type": "markdown",
      "source": [
        "2var is incorrect since it cannot start with a number. Hello! is incorrect because \"!\" is not allowed in variable names."
      ],
      "metadata": {
        "id": "l7nUUf96YmOY"
      }
    },
    {
      "cell_type": "markdown",
      "source": [
        "---\n",
        "### **Problem #2.5**\n",
        "\n",
        "\n",
        "Create and a name a variable that stores a list of 3 fruits. Print that variable.\n",
        "\n"
      ],
      "metadata": {
        "id": "9spWwdiHrt_o"
      }
    },
    {
      "cell_type": "code",
      "source": [
        "fruits = [\"Apples, Bananas, Pineapples\"]\n",
        "print(fruits)"
      ],
      "metadata": {
        "id": "28BdodiAszpO",
        "colab": {
          "base_uri": "https://localhost:8080/"
        },
        "outputId": "554a5bf1-5bc2-49de-9f45-c1d9eb0f9891"
      },
      "execution_count": 67,
      "outputs": [
        {
          "output_type": "stream",
          "name": "stdout",
          "text": [
            "['Apples, Bananas, Pineapples']\n"
          ]
        }
      ]
    },
    {
      "cell_type": "markdown",
      "source": [
        "---\n",
        "### **Problem #2.6**\n",
        "\n",
        "Create two variables to represent your height, one variable for feet, one for inches. Name your variables appropriately."
      ],
      "metadata": {
        "id": "qCkX0Ndbu099"
      }
    },
    {
      "cell_type": "code",
      "source": [
        "height_Feet = \"5\"\n",
        "height_Inches = \"4\""
      ],
      "metadata": {
        "id": "eAck5rdUvJbm"
      },
      "execution_count": 34,
      "outputs": []
    },
    {
      "cell_type": "markdown",
      "source": [
        "---\n",
        "###Back To Lab Slides\n",
        "---"
      ],
      "metadata": {
        "id": "zQraW7-mGkcl"
      }
    },
    {
      "cell_type": "markdown",
      "source": [
        "<a name=\"p3\"></a>\n",
        "\n",
        "---\n",
        "## **Part 3: Arithmetic Operators**\n",
        "---"
      ],
      "metadata": {
        "id": "H5MIexSZviqM"
      }
    },
    {
      "cell_type": "markdown",
      "source": [
        "### **Problem #3.1**\n",
        "\n",
        "\n",
        "Print the sum of 3 and 2. Take note of the output."
      ],
      "metadata": {
        "id": "Nkrwij4gSu0h"
      }
    },
    {
      "cell_type": "code",
      "source": [
        "print( 3 + 2)"
      ],
      "metadata": {
        "id": "rwGjkCmrT8cp",
        "colab": {
          "base_uri": "https://localhost:8080/"
        },
        "outputId": "a7453152-4f5a-407f-9964-83c2599366c1"
      },
      "execution_count": 28,
      "outputs": [
        {
          "output_type": "stream",
          "name": "stdout",
          "text": [
            "5\n"
          ]
        }
      ]
    },
    {
      "cell_type": "markdown",
      "source": [
        "---\n",
        "### **Problem #3.2**\n",
        "\n",
        "\n",
        "Print the sum of 7.0 and 2.0. Take note of the output."
      ],
      "metadata": {
        "id": "TMg9xuU4bGXO"
      }
    },
    {
      "cell_type": "code",
      "source": [
        "print(7.0 + 2.0)"
      ],
      "metadata": {
        "id": "gxuz6DBtbS4b",
        "colab": {
          "base_uri": "https://localhost:8080/"
        },
        "outputId": "b92b8076-a469-4fbc-c7e2-8890b6bd8b11"
      },
      "execution_count": 29,
      "outputs": [
        {
          "output_type": "stream",
          "name": "stdout",
          "text": [
            "9.0\n"
          ]
        }
      ]
    },
    {
      "cell_type": "markdown",
      "source": [
        "---\n",
        "### **Problem #3.3**\n",
        "\n",
        "\n",
        "What is 23 divided by 2? Print the answer. Take note of the output."
      ],
      "metadata": {
        "id": "AoNyZMOLbHzG"
      }
    },
    {
      "cell_type": "code",
      "source": [
        "print(23//2)"
      ],
      "metadata": {
        "id": "2qLvU5ArbX9e",
        "colab": {
          "base_uri": "https://localhost:8080/"
        },
        "outputId": "600aacfa-0811-44a7-ec71-788ca8cfb249"
      },
      "execution_count": 31,
      "outputs": [
        {
          "output_type": "stream",
          "name": "stdout",
          "text": [
            "11\n"
          ]
        }
      ]
    },
    {
      "cell_type": "markdown",
      "source": [
        "---\n",
        "### **Problem #3.4**\n",
        "\n",
        "\n",
        "Print the product of 24.0 and 25.4. Take note of the output."
      ],
      "metadata": {
        "id": "MAhg9IhNbIW9"
      }
    },
    {
      "cell_type": "code",
      "source": [
        "print(24.0*25.4)"
      ],
      "metadata": {
        "id": "vQouy4o_brEN",
        "colab": {
          "base_uri": "https://localhost:8080/"
        },
        "outputId": "4c84047c-d87b-4b53-def7-1803306a1c44"
      },
      "execution_count": 32,
      "outputs": [
        {
          "output_type": "stream",
          "name": "stdout",
          "text": [
            "609.5999999999999\n"
          ]
        }
      ]
    },
    {
      "cell_type": "markdown",
      "source": [
        "---\n",
        "### **Problem #3.5**\n",
        "\n",
        "\n",
        "Create and name a variable `fav_number` with your favorite number as an integer. Multiply the variable by 3 and print the result."
      ],
      "metadata": {
        "id": "EcB4WGxvTKYZ"
      }
    },
    {
      "cell_type": "code",
      "source": [
        "fav_number = 2\n",
        "print(fav_number * 3)"
      ],
      "metadata": {
        "id": "0hNxBDXHUT77",
        "colab": {
          "base_uri": "https://localhost:8080/"
        },
        "outputId": "e74f693b-1836-4f6c-97a7-444c9e4364ce"
      },
      "execution_count": 33,
      "outputs": [
        {
          "output_type": "stream",
          "name": "stdout",
          "text": [
            "6\n"
          ]
        }
      ]
    },
    {
      "cell_type": "markdown",
      "source": [
        "---\n",
        "\n",
        "### **Now your turn! Try Problems #3.6-3.10 on your own.**\n",
        "\n",
        "---"
      ],
      "metadata": {
        "id": "Ttxn0Y39k4mS"
      }
    },
    {
      "cell_type": "markdown",
      "source": [
        "\n",
        "### **Problem #3.6**\n",
        "\n",
        "\n",
        "You have 2 bananas and 5 apples. How many fruits do you have in total?"
      ],
      "metadata": {
        "id": "1cPGnpbfTdGP"
      }
    },
    {
      "cell_type": "code",
      "source": [
        "bananas = 2\n",
        "apples = 5\n",
        "print(bananas + apples)"
      ],
      "metadata": {
        "id": "cUws429IUVhO",
        "colab": {
          "base_uri": "https://localhost:8080/"
        },
        "outputId": "fa5a19e4-a0e9-4fda-e04a-a700ba318128"
      },
      "execution_count": 38,
      "outputs": [
        {
          "output_type": "stream",
          "name": "stdout",
          "text": [
            "7\n"
          ]
        }
      ]
    },
    {
      "cell_type": "markdown",
      "source": [
        "---\n",
        "### **Problem #3.7**\n",
        "\n",
        "\n",
        "You got a 90 on your biology test, and then answered the extra credit question, which gave you an additional 4 points. Calculate and print your final grade.\n",
        "\n"
      ],
      "metadata": {
        "id": "fn83nMUNTmfx"
      }
    },
    {
      "cell_type": "code",
      "source": [
        "original_grade = 90\n",
        "bonus = 4\n",
        "print(original_grade + bonus)"
      ],
      "metadata": {
        "id": "FMtsQNH0UXsB",
        "colab": {
          "base_uri": "https://localhost:8080/"
        },
        "outputId": "a20f3c3a-c0b6-41a9-e2eb-5395dfbe0532"
      },
      "execution_count": 35,
      "outputs": [
        {
          "output_type": "stream",
          "name": "stdout",
          "text": [
            "94\n"
          ]
        }
      ]
    },
    {
      "cell_type": "markdown",
      "source": [
        "---\n",
        "### **Problem #3.8**\n",
        "\n",
        "\n",
        "The length and width of a rectangle are 5 and 8, respectively. Calculate the area of a rectangle using these variables and print the result."
      ],
      "metadata": {
        "id": "jzGCZY4Vy4wq"
      }
    },
    {
      "cell_type": "code",
      "source": [
        "length = 5\n",
        "width = 8\n",
        "print(length*width)"
      ],
      "metadata": {
        "id": "W0m-Cu7600R5",
        "colab": {
          "base_uri": "https://localhost:8080/"
        },
        "outputId": "5413bbb7-bc2c-4330-dce9-2999b2eb620c"
      },
      "execution_count": 36,
      "outputs": [
        {
          "output_type": "stream",
          "name": "stdout",
          "text": [
            "40\n"
          ]
        }
      ]
    },
    {
      "cell_type": "markdown",
      "source": [
        "---\n",
        "### **Problem #3.9**\n",
        "\n",
        "\n",
        "Create three variables `num1`, `num2`, and `num3` and assign them the values of 5, 24, and 67, respectively. Then calculate the average of these three numbers."
      ],
      "metadata": {
        "id": "nqFlPpynzsCE"
      }
    },
    {
      "cell_type": "code",
      "source": [
        "num1 = 5\n",
        "num2 = 24\n",
        "num3 = 67\n",
        "print((5+24+67)/3)"
      ],
      "metadata": {
        "id": "xcZdD-_A1nHc",
        "colab": {
          "base_uri": "https://localhost:8080/"
        },
        "outputId": "ce97fd37-9400-4296-daef-e783caa0ae91"
      },
      "execution_count": 41,
      "outputs": [
        {
          "output_type": "stream",
          "name": "stdout",
          "text": [
            "32.0\n"
          ]
        }
      ]
    },
    {
      "cell_type": "markdown",
      "source": [
        "---\n",
        "### **Problem #3.10**\n",
        "\n",
        "\n",
        "Create a variable named `temperature` and assign a value of 25. Convert the temperature from Celsius to Fahrenheit using the formula (`temperature` * 9/5) + 32 and print the result."
      ],
      "metadata": {
        "id": "YFE22tI8zsJI"
      }
    },
    {
      "cell_type": "code",
      "source": [
        "temperature = 25\n",
        "print((temperature*9/5)+32)"
      ],
      "metadata": {
        "id": "FsLpVgJN7uXG",
        "colab": {
          "base_uri": "https://localhost:8080/"
        },
        "outputId": "1c30b5e2-e982-4d38-e771-d3b10aed5d9f"
      },
      "execution_count": 45,
      "outputs": [
        {
          "output_type": "stream",
          "name": "stdout",
          "text": [
            "77.0\n"
          ]
        }
      ]
    },
    {
      "cell_type": "markdown",
      "source": [
        "---\n",
        "###Back To Lab Slides\n",
        "---"
      ],
      "metadata": {
        "id": "QC52fy-oT2Wv"
      }
    },
    {
      "cell_type": "markdown",
      "source": [
        "<a name=\"p4\"></a>\n",
        "\n",
        "---\n",
        "## **Part 4: Extra Practice** [OPTIONAL]\n",
        "---"
      ],
      "metadata": {
        "id": "ifCz5BOUJsZG"
      }
    },
    {
      "cell_type": "markdown",
      "source": [
        "### **Problem #4.1**\n",
        "\n",
        "\n",
        "What's wrong with the following declaration?\n",
        "\n",
        "A)\n",
        "```\n",
        "1var = 323.0\n",
        "```\n",
        "B)\n",
        "```\n",
        "month@month = \"July\"\n",
        "```\n",
        "\n",
        "C)\n",
        "```\n",
        "month year = \"july2020\"\n",
        "```"
      ],
      "metadata": {
        "id": "KVG4EcnAFl_D"
      }
    },
    {
      "cell_type": "markdown",
      "source": [
        "In A, it cannot start with a number. In B, the symbol \"@\" is not allowed. And in C, there cannot be a space when creating a variable."
      ],
      "metadata": {
        "id": "B4NQUG0QZQ2k"
      }
    },
    {
      "cell_type": "markdown",
      "source": [
        "---\n",
        "### **Problem #4.2**\n",
        "\n",
        "\n",
        "Create a list named `nums` with values 1, 2, and 3."
      ],
      "metadata": {
        "id": "KJaTpSVBsuAO"
      }
    },
    {
      "cell_type": "code",
      "source": [
        "nums = [1,2,3]"
      ],
      "metadata": {
        "id": "oNKRJdj1s3LM"
      },
      "execution_count": 54,
      "outputs": []
    },
    {
      "cell_type": "markdown",
      "source": [
        "---\n",
        "### **Problem #4.3**\n",
        "\n",
        "\n",
        "Divide 13 by 7. Make sure the answer has decimals."
      ],
      "metadata": {
        "id": "21SvhgGZx9i8"
      }
    },
    {
      "cell_type": "code",
      "source": [
        "print(13/7)"
      ],
      "metadata": {
        "id": "JWFKJiJZyvS0",
        "colab": {
          "base_uri": "https://localhost:8080/"
        },
        "outputId": "c0fec909-bf37-4734-833f-4295cee1e952"
      },
      "execution_count": 55,
      "outputs": [
        {
          "output_type": "stream",
          "name": "stdout",
          "text": [
            "1.8571428571428572\n"
          ]
        }
      ]
    },
    {
      "cell_type": "markdown",
      "source": [
        "---\n",
        "### **Problem #4.4**\n",
        "\n",
        "\n",
        "Starting with the code below, reassign the variable, `candybar`, to \"Milkyway.\" Check to make sure it worked."
      ],
      "metadata": {
        "id": "8_PhufOasfz6"
      }
    },
    {
      "cell_type": "code",
      "source": [
        "candybar = \"Snickers\"\n",
        "candybar = \"Milkyway\""
      ],
      "metadata": {
        "id": "iiuPR05DtmTz"
      },
      "execution_count": 57,
      "outputs": []
    },
    {
      "cell_type": "markdown",
      "source": [
        "---\n",
        "### **Problem #4.5**\n",
        "\n",
        "\n",
        "Using the code below, what will print when you `print(bananas)`? Why?\n",
        "\n",
        "```\n",
        "bananas = 4\n",
        "apples = 3\n",
        "oranges = banana\n",
        "bananas = 8\n",
        "print(bananas)\n",
        "```"
      ],
      "metadata": {
        "id": "CwVZnyLVJzUK"
      }
    },
    {
      "cell_type": "markdown",
      "source": [
        "It will print the number 8, because bananas is listed as a variable with 8 in the memory."
      ],
      "metadata": {
        "id": "HVOqigGDVe_t"
      }
    },
    {
      "cell_type": "markdown",
      "source": [
        "---\n",
        "### **Problem #4.6**\n",
        "\n",
        "\n",
        "Name a variable `name` and assign it your name. Then change the value to your instructor's name."
      ],
      "metadata": {
        "id": "haFKT9ykFGnT"
      }
    },
    {
      "cell_type": "code",
      "source": [
        "name = \"MichaelBriglall\"\n",
        "name = \"JonathanTran\""
      ],
      "metadata": {
        "id": "zgK-yT__vafM"
      },
      "execution_count": 61,
      "outputs": []
    },
    {
      "cell_type": "markdown",
      "source": [
        "---\n",
        "### **Problem #4.7**\n",
        "\n",
        "\n",
        "Create a list named 'grocery_list' and add 5 items. Print the list."
      ],
      "metadata": {
        "id": "Gv3521gxaoSd"
      }
    },
    {
      "cell_type": "code",
      "source": [
        "grocery_list = [\"Eggs, Bacon, Bread, Cereal, Snacks\"]\n",
        "print(grocery_list)"
      ],
      "metadata": {
        "id": "2w6oV7LTbTpH",
        "colab": {
          "base_uri": "https://localhost:8080/"
        },
        "outputId": "3e737526-68ca-473f-b8e2-b33c4fa78ee3"
      },
      "execution_count": 71,
      "outputs": [
        {
          "output_type": "stream",
          "name": "stdout",
          "text": [
            "['Eggs, Bacon, Bread, Cereal, Snacks']\n"
          ]
        }
      ]
    },
    {
      "cell_type": "markdown",
      "source": [
        "---\n",
        "### **Problem #4.8**\n",
        "\n",
        "\n",
        "What are the following data types?\n",
        "\n",
        "```\n",
        "4323\n",
        "\n",
        "\"word\"\n",
        "\n",
        "[4.0, 25.4, 192.0]\n",
        "\n",
        "[\"apples\", \"bananas\", \"oranges\"]\n",
        "\n",
        "-1.231\n",
        "```"
      ],
      "metadata": {
        "id": "NSImpFSvtABU"
      }
    },
    {
      "cell_type": "markdown",
      "source": [
        "Integer, string, list of floats, list of strings, float."
      ],
      "metadata": {
        "id": "V1CQ7v18YamW"
      }
    },
    {
      "cell_type": "markdown",
      "source": [
        "---\n",
        "### **Problem #4.9**\n",
        "\n",
        "\n",
        "Create a list called `capitals` and list 5 U.S. State capitals.\n",
        "\n",
        "Print the list."
      ],
      "metadata": {
        "id": "fnbDhhBdaDGQ"
      }
    },
    {
      "cell_type": "code",
      "source": [
        "capitals = [\"Albany, Phoenix, Sacramento, Denver, Hartford\"]\n",
        "print(capitals)"
      ],
      "metadata": {
        "id": "tbK8zwjYaAHf",
        "colab": {
          "base_uri": "https://localhost:8080/"
        },
        "outputId": "0e760964-2186-4471-fc8f-afd9595062e9"
      },
      "execution_count": 72,
      "outputs": [
        {
          "output_type": "stream",
          "name": "stdout",
          "text": [
            "['Albany, Phoenix, Sacramento, Denver, Hartford']\n"
          ]
        }
      ]
    },
    {
      "cell_type": "markdown",
      "source": [
        "---\n",
        "### **Problem #4.10**\n",
        "\n",
        "\n",
        "Your plant grew 5.3 inches in 10 days. Create a variable `height` and assign it to value 5.3. Create a variable `days` and assign it to value 10. Assuming your plant grew the same amount everyday, how much did it grow each day?"
      ],
      "metadata": {
        "id": "CAOsjIOJEwZr"
      }
    },
    {
      "cell_type": "code",
      "source": [
        "height = 5.3\n",
        "days = 10\n",
        "height/days"
      ],
      "metadata": {
        "id": "M93r7YoBsy0s",
        "colab": {
          "base_uri": "https://localhost:8080/"
        },
        "outputId": "e089408b-f3af-4377-a0f9-ed79b1ee3569"
      },
      "execution_count": 73,
      "outputs": [
        {
          "output_type": "execute_result",
          "data": {
            "text/plain": [
              "0.53"
            ]
          },
          "metadata": {},
          "execution_count": 73
        }
      ]
    },
    {
      "cell_type": "markdown",
      "source": [
        "---\n",
        "### **Problem #4.11**\n",
        "\n",
        "\n",
        "Jake has 5 bags of coins. Each bag has 18 coins in it. How many coins in total does Jake have? Create variables `bags` and `coins` and print their product: `total`.\n"
      ],
      "metadata": {
        "id": "UHeue490wHt_"
      }
    },
    {
      "cell_type": "code",
      "source": [
        "bags = 5\n",
        "coins = 18\n",
        "print(5*18)\n",
        "total = 90"
      ],
      "metadata": {
        "id": "TMvP1YBuxWLI",
        "colab": {
          "base_uri": "https://localhost:8080/"
        },
        "outputId": "e17b1fd3-09a6-434b-9396-2bad2c232e55"
      },
      "execution_count": 77,
      "outputs": [
        {
          "output_type": "stream",
          "name": "stdout",
          "text": [
            "90\n"
          ]
        }
      ]
    },
    {
      "cell_type": "markdown",
      "source": [
        "---\n",
        "#End of notebook\n",
        "\n",
        "© 2025 The Coding School, All rights reserved"
      ],
      "metadata": {
        "id": "Q2wvzsccqNCk"
      }
    }
  ]
}